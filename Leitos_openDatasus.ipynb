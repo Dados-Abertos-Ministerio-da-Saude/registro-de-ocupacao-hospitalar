{
  "nbformat": 4,
  "nbformat_minor": 0,
  "metadata": {
    "colab": {
      "name": "Leitos_openDatasus.ipynb",
      "provenance": []
    },
    "kernelspec": {
      "name": "python3",
      "display_name": "Python 3"
    }
  },
  "cells": [
    {
      "cell_type": "code",
      "metadata": {
        "id": "Cb6tgxbGn7SX"
      },
      "source": [
        "from requests import session\n",
        "import pandas as pd\n",
        "MAX_SIZE = 10000\n",
        "USUARIO_API = ('user-api-leitos', 'aQbLL3ZStaTr38tj')\n",
        "BASE_URL = 'https://elastic-leitos.saude.gov.br/leito_ocupacao/'"
      ],
      "execution_count": null,
      "outputs": []
    },
    {
      "cell_type": "code",
      "metadata": {
        "colab": {
          "base_uri": "https://localhost:8080/"
        },
        "id": "hDsCm4G6s5hB",
        "outputId": "c4ead109-3533-4548-8d86-44e95749ced1"
      },
      "source": [
        "sessao = session()\n",
        "res1 = sessao.post(BASE_URL+\"_search\", auth=USUARIO_API)\n",
        "data = res1.json()\n",
        "num_elementos = data['hits']['total']['value']\n",
        "num_elementos"
      ],
      "execution_count": null,
      "outputs": [
        {
          "output_type": "execute_result",
          "data": {
            "text/plain": [
              "3738"
            ]
          },
          "metadata": {
            "tags": []
          },
          "execution_count": 2
        }
      ]
    },
    {
      "cell_type": "markdown",
      "metadata": {
        "id": "sLEGsCM4I7v9"
      },
      "source": [
        "Caso o número de elemento da consulta seja MENOR que 10000 (default) o próximo passo é suficiente para consultar os registros"
      ]
    },
    {
      "cell_type": "code",
      "metadata": {
        "colab": {
          "base_uri": "https://localhost:8080/"
        },
        "id": "PFHJe8X1BsFm",
        "outputId": "08d410e9-f246-4f88-9891-78c795d9ee33"
      },
      "source": [
        "if(num_elementos <= MAX_SIZE):\n",
        "  query = {\n",
        "      \"size\":MAX_SIZE\n",
        "  }\n",
        "  response = sessao.post(BASE_URL+\"_search\", auth=USUARIO_API, json=query).json()\n",
        "  print(len(response['hits']['hits']))"
      ],
      "execution_count": null,
      "outputs": [
        {
          "output_type": "stream",
          "text": [
            "3738\n"
          ],
          "name": "stdout"
        }
      ]
    },
    {
      "cell_type": "markdown",
      "metadata": {
        "id": "q3Cpd1j8Jk0K"
      },
      "source": [
        "Caso o número de elemento da consulta seja MAIOR que 10000 (default) siga os próximos passos:"
      ]
    },
    {
      "cell_type": "code",
      "metadata": {
        "id": "PYdUIG2Q0WWN"
      },
      "source": [
        "def scroll_function(scroll_id):\n",
        "  scroll_query = {\n",
        "      \"scroll\": \"1m\",\n",
        "      \"scroll_id\": scroll_id\n",
        "  }\n",
        "  return sessao.post('https://elastic-leitos.saude.gov.br/_search/scroll', auth=USUARIO_API, json=scroll_query).json()"
      ],
      "execution_count": null,
      "outputs": []
    },
    {
      "cell_type": "code",
      "metadata": {
        "colab": {
          "base_uri": "https://localhost:8080/"
        },
        "id": "dYouKyZGJZWq",
        "outputId": "0c402b7f-ee7b-486e-ddb8-0a0f8489c878"
      },
      "source": [
        "query = {\n",
        "    \"size\":1000\n",
        "}\n",
        "scroll_response = sessao.post(BASE_URL+\"_search?scroll=1m\", auth=USUARIO_API, json=query).json() #além do id, a lista com SIZE elementos também virá\n",
        "scroll_id = scroll_response['_scroll_id']\n",
        "print(scroll_id)\n",
        "elements = scroll_response['hits']['hits']\n",
        "print(f'Lista primeira requisição com {len(elements)}')\n",
        "#O scroll de fato\n",
        "sequencia_scroll = scroll_function(scroll_id)\n",
        "while( len(sequencia_scroll['hits']['hits']) != 0):\n",
        "  scroll_id = sequencia_scroll['_scroll_id']\n",
        "  elements = elements + sequencia_scroll['hits']['hits']\n",
        "  sequencia_scroll = scroll_function(scroll_id)\n",
        "  print(\"Novo Append\")\n",
        "print(f'Lista Total com {len(elements)}')"
      ],
      "execution_count": null,
      "outputs": [
        {
          "output_type": "stream",
          "text": [
            "DnF1ZXJ5VGhlbkZldGNoAwAAAAAAHtuGFllWTndSTm1pVEFPa19RWERRQnoxVHcAAAAAAH0gqhZOSkxvM25Pd1I4LW5YblRza09JTDJnAAAAAAB9IKsWTkpMbzNuT3dSOC1uWG5Uc2tPSUwyZw==\n",
            "Lista primeira requisição com 1000\n",
            "Novo Append\n",
            "Novo Append\n",
            "Novo Append\n",
            "Lista Total com 3738\n"
          ],
          "name": "stdout"
        }
      ]
    },
    {
      "cell_type": "code",
      "metadata": {
        "id": "lRVNniJm6MBx"
      },
      "source": [
        ""
      ],
      "execution_count": null,
      "outputs": []
    }
  ]
}